{
 "cells": [
  {
   "cell_type": "markdown",
   "metadata": {},
   "source": [
    "## csv"
   ]
  },
  {
   "cell_type": "code",
   "execution_count": 5,
   "metadata": {},
   "outputs": [],
   "source": [
    "import numpy as np\n",
    "import pandas as pd"
   ]
  },
  {
   "cell_type": "code",
   "execution_count": 6,
   "metadata": {},
   "outputs": [],
   "source": [
    "datasets1 = pd.read_csv('user.csv')\n",
    "X = datasets1.iloc[:,:-1].values\n",
    "Y = datasets1.iloc[:,3].values"
   ]
  },
  {
   "cell_type": "code",
   "execution_count": 7,
   "metadata": {},
   "outputs": [
    {
     "data": {
      "text/plain": "      id  age password     user_name\n0  10000   18     1121  F.LuVx-10000\n1  10043   18     1121  F.LuVx-10044\n2  10045   18     1121  F.LuVx-10045\n3  10046   18     1121  F.LuVx-10046\n4  10047   18     1121  F.LuVx-10047\n5  20000   18     1121  F.LuVx-20000\n6  20004   18      bar           foo\n7  20005   18      bar           foo\n8  20008  222      bbb           aaa",
      "text/html": "<div>\n<style scoped>\n    .dataframe tbody tr th:only-of-type {\n        vertical-align: middle;\n    }\n\n    .dataframe tbody tr th {\n        vertical-align: top;\n    }\n\n    .dataframe thead th {\n        text-align: right;\n    }\n</style>\n<table border=\"1\" class=\"dataframe\">\n  <thead>\n    <tr style=\"text-align: right;\">\n      <th></th>\n      <th>id</th>\n      <th>age</th>\n      <th>password</th>\n      <th>user_name</th>\n    </tr>\n  </thead>\n  <tbody>\n    <tr>\n      <th>0</th>\n      <td>10000</td>\n      <td>18</td>\n      <td>1121</td>\n      <td>F.LuVx-10000</td>\n    </tr>\n    <tr>\n      <th>1</th>\n      <td>10043</td>\n      <td>18</td>\n      <td>1121</td>\n      <td>F.LuVx-10044</td>\n    </tr>\n    <tr>\n      <th>2</th>\n      <td>10045</td>\n      <td>18</td>\n      <td>1121</td>\n      <td>F.LuVx-10045</td>\n    </tr>\n    <tr>\n      <th>3</th>\n      <td>10046</td>\n      <td>18</td>\n      <td>1121</td>\n      <td>F.LuVx-10046</td>\n    </tr>\n    <tr>\n      <th>4</th>\n      <td>10047</td>\n      <td>18</td>\n      <td>1121</td>\n      <td>F.LuVx-10047</td>\n    </tr>\n    <tr>\n      <th>5</th>\n      <td>20000</td>\n      <td>18</td>\n      <td>1121</td>\n      <td>F.LuVx-20000</td>\n    </tr>\n    <tr>\n      <th>6</th>\n      <td>20004</td>\n      <td>18</td>\n      <td>bar</td>\n      <td>foo</td>\n    </tr>\n    <tr>\n      <th>7</th>\n      <td>20005</td>\n      <td>18</td>\n      <td>bar</td>\n      <td>foo</td>\n    </tr>\n    <tr>\n      <th>8</th>\n      <td>20008</td>\n      <td>222</td>\n      <td>bbb</td>\n      <td>aaa</td>\n    </tr>\n  </tbody>\n</table>\n</div>"
     },
     "execution_count": 7,
     "metadata": {},
     "output_type": "execute_result"
    }
   ],
   "source": [
    "datasets1\n",
    "# print(datasets1)\n",
    "# print(X)\n",
    "# print(Y)"
   ]
  },
  {
   "cell_type": "markdown",
   "metadata": {},
   "source": [
    "## excel"
   ]
  },
  {
   "cell_type": "code",
   "execution_count": null,
   "metadata": {},
   "outputs": [],
   "source": [
    "fileName ='商品信息导出1208.xlsx'\n",
    "datasets2 = pd.read_excel(fileName)\n",
    "datasets2\n",
    "# print(datasets2.head())"
   ]
  },
  {
   "cell_type": "code",
   "execution_count": null,
   "metadata": {},
   "outputs": [],
   "source": [
    "#用pd包中的ExcelFile方法\n",
    "# xls = pd.ExcelFile(fileName)\n",
    "# salesDf = xls.parse('京东汇总')\n",
    "# salesDf.head(3)"
   ]
  }
 ],
 "metadata": {
  "kernelspec": {
   "display_name": "Python 3",
   "language": "python",
   "name": "python3"
  },
  "language_info": {
   "codemirror_mode": {
    "name": "ipython",
    "version": 3
   },
   "file_extension": ".py",
   "mimetype": "text/x-python",
   "name": "python",
   "nbconvert_exporter": "python",
   "pygments_lexer": "ipython3",
   "version": "3.6.8"
  },
  "toc": {
   "base_numbering": 1,
   "nav_menu": {},
   "number_sections": false,
   "sideBar": true,
   "skip_h1_title": false,
   "title_cell": "Table of Contents",
   "title_sidebar": "Contents",
   "toc_cell": false,
   "toc_position": {},
   "toc_section_display": true,
   "toc_window_display": false
  }
 },
 "nbformat": 4,
 "nbformat_minor": 4
}