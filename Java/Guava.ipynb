{
 "cells": [
  {
   "cell_type": "code",
   "execution_count": null,
   "metadata": {},
   "outputs": [],
   "source": [
    "%%loadFromPOM\n",
    "<dependency>\n",
    "    <groupId>com.google.guava</groupId>\n",
    "    <artifactId>guava</artifactId>\n",
    "    <version>28.2-jre</version>\n",
    "</dependency>"
   ]
  },
  {
   "cell_type": "markdown",
   "metadata": {},
   "source": [
    "## 1\n",
    "\n"
   ]
  },
  {
   "cell_type": "code",
   "execution_count": null,
   "metadata": {},
   "outputs": [],
   "source": [
    "import com.google.common.base.CharMatcher;\n",
    "import com.google.common.base.Joiner;\n",
    "import com.google.common.base.Splitter;\n",
    "import com.google.common.collect.Lists;\n",
    "import com.google.common.primitives.Ints;\n",
    "\n",
    "int[] concat = Ints.concat(new int[]{1, 2}, new int[]{3, 4, 5});\n",
    "List<Integer> list = Ints.asList(concat);\n",
    "System.out.println(Ints.max(concat));\n",
    "\n",
    "final Joiner joiner = Joiner.on(\",\").skipNulls();\n",
    "final Splitter splitter = Splitter.on(\",\").trimResults().omitEmptyStrings();\n",
    "final CharMatcher digitMatcher = CharMatcher.anyOf(\"1234567890\");\n",
    "\n",
    "String join = joiner.join(Lists.newArrayList(\"a\", null, \"b\"));\n",
    "System.out.println(\"join1:\" + join);\n"
   ]
  },
  {
   "cell_type": "code",
   "execution_count": null,
   "metadata": {
    "scrolled": true
   },
   "outputs": [],
   "source": [
    "import com.google.common.cache.CacheBuilder;\n",
    "import com.google.common.cache.CacheLoader;\n",
    "import com.google.common.cache.LoadingCache;\n",
    "\n",
    "import java.util.Optional;\n",
    "import java.util.concurrent.ExecutionException;\n",
    "\n",
    "private String getUserName(String userId) throws InterruptedException {\n",
    "    System.out.println(\"执行耗时操作......\");\n",
    "    String username = null;\n",
    "    switch (userId) {\n",
    "        case \"0101\":\n",
    "            username = \"foo\";\n",
    "            break;\n",
    "        case \"0102\":\n",
    "            username = \"bar\";\n",
    "            break;\n",
    "        default:\n",
    "    }\n",
    "\n",
    "    Thread.sleep(1000);\n",
    "    return Optional.ofNullable(username).orElse(\"\");\n",
    "}\n",
    "\n",
    "// private Cache<String, String> poiCache = CacheBuilder.newBuilder()\n",
    "//         .maximumSize(1024 * 1024 * 1024)\n",
    "//         .build();\n",
    "\n",
    "private LoadingCache<String, String> poiCache1 = CacheBuilder.newBuilder()\n",
    "        .maximumSize(1000)\n",
    "        .build(\n",
    "                new CacheLoader<String, String>() {\n",
    "                    @Override\n",
    "                    public String load(String userId) throws InterruptedException {\n",
    "                        return getUserName(userId);\n",
    "                    }\n",
    "                });\n",
    "\n",
    "public String getUserNameById(final String userId) throws ExecutionException {\n",
    "    String username = null;\n",
    "    /// 缓存定义形式1\n",
    "    // username = poiCache.get(userId, () -> getUserName(userId));\n",
    "    /// 缓存定义形式2\n",
    "    username = poiCache1.get(userId);\n",
    "    return username;\n",
    "}\n",
    "\n",
    "// 后两次循环没有执行方法, 直接取缓存\n",
    "for (int i = 0; i < 3; i++) {\n",
    "    System.out.println(\"--- \" + i + \" ---\");\n",
    "    System.out.println(getUserNameById(\"0101\"));\n",
    "    System.out.println(getUserNameById(\"0102\"));\n",
    "    System.out.println(getUserNameById(\"0103\"));\n",
    "    System.out.println();\n",
    "}"
   ]
  }
 ],
 "metadata": {
  "kernelspec": {
   "display_name": "Java",
   "language": "java",
   "name": "java"
  },
  "language_info": {
   "codemirror_mode": "java",
   "file_extension": ".jshell",
   "mimetype": "text/x-java-source",
   "name": "Java",
   "pygments_lexer": "java",
   "version": "11.0.5+10-LTS"
  },
  "toc": {
   "base_numbering": 1,
   "nav_menu": {},
   "number_sections": true,
   "sideBar": true,
   "skip_h1_title": false,
   "title_cell": "Table of Contents",
   "title_sidebar": "Contents",
   "toc_cell": false,
   "toc_position": {},
   "toc_section_display": true,
   "toc_window_display": false
  }
 },
 "nbformat": 4,
 "nbformat_minor": 4
}
