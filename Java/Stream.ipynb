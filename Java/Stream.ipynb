{
 "cells": [
  {
   "cell_type": "code",
   "execution_count": null,
   "metadata": {},
   "outputs": [],
   "source": [
    "%%loadFromPOM\n",
    "<dependency>\n",
    "    <groupId>com.google.guava</groupId>\n",
    "    <artifactId>guava</artifactId>\n",
    "    <version>28.2-jre</version>\n",
    "</dependency>"
   ]
  },
  {
   "cell_type": "code",
   "execution_count": null,
   "metadata": {
    "code_folding": [
     4
    ]
   },
   "outputs": [],
   "source": [
    "import java.util.*;\n",
    "import java.util.function.*;\n",
    "import java.util.stream.*;\n",
    "\n",
    "class User {\n",
    "    String name;\n",
    "    String password;\n",
    "\n",
    "    public String getName() {\n",
    "        return name;\n",
    "    }\n",
    "\n",
    "    public void setName(String name) {\n",
    "        this.name = name;\n",
    "    }\n",
    "\n",
    "    public String getPassword() {\n",
    "        return password;\n",
    "    }\n",
    "\n",
    "    public void setPassword(String password) {\n",
    "        this.password = password;\n",
    "    }\n",
    "    \n",
    "    @Override\n",
    "    public String toString() {\n",
    "        return \"User{\" +\n",
    "                \"name='\" + name + '\\'' +\n",
    "                \", password='\" + password + '\\'' +\n",
    "                '}';\n",
    "    }\n",
    "}"
   ]
  },
  {
   "cell_type": "code",
   "execution_count": 32,
   "metadata": {
    "code_folding": [
     4,
     8,
     12,
     16,
     20
    ]
   },
   "outputs": [
    {
     "name": "stdout",
     "output_type": "stream",
     "text": [
      "[aa, bb]\n",
      "[aa, 11, bb, 22]\n",
      "{bb=User{name='bb', password='22'}, aa=User{name='aa', password='11'}}\n"
     ]
    }
   ],
   "source": [
    "User user = new User();\n",
    "user.setName(\"aa\");\n",
    "user.setPassword(\"11\");\n",
    "User user1 = new User();\n",
    "user1.setName(\"bb\");\n",
    "user1.setPassword(\"22\");\n",
    "\n",
    "List<User> users = List.of(user, user1);\n",
    "List<String> nameList = users.stream()\n",
    "    .map(User::getName)\n",
    "    .collect(Collectors.toList());\n",
    "System.out.println(nameList);\n",
    "\n",
    "List<String> collect = users.stream()\n",
    "    .flatMap(s -> Stream.of(s.getName(), s.getPassword()))\n",
    "    .collect(Collectors.toList());\n",
    "System.out.println(collect);\n",
    "\n",
    "Map<String, User> userMap = users.stream()\n",
    "    .collect(Collectors.toMap(User::getName, Function.identity(), (k1, k2) -> k2));\n",
    "System.out.println(userMap);"
   ]
  },
  {
   "cell_type": "code",
   "execution_count": null,
   "metadata": {},
   "outputs": [],
   "source": [
    "List.of(\"a\", \"b\", \"a\").stream()\n",
    "    .distinct()\n",
    "    .peek(System.out::println)\n",
    "    .forEach(System.out::println);\n",
    "System.out.println(\"----------\");\n",
    "List.of(List.of(\"a\", \"b\", \"a\"), List.of(\"aa\", \"bb\", \"aa\")).stream()\n",
    "    .flatMap(Collection::stream)\n",
    "    .collect(Collectors.toList())\n",
    "    .forEach(System.out::println);"
   ]
  },
  {
   "cell_type": "code",
   "execution_count": null,
   "metadata": {},
   "outputs": [],
   "source": [
    "Stream.of(1, 2, 3, 4).forEach(System.out::println);\n",
    "Stream.generate(Math::random).limit(5).forEach(System.out::println);\n",
    "Stream.iterate(0, i -> i + 1).limit(5).forEach(System.out::println);"
   ]
  },
  {
   "cell_type": "code",
   "execution_count": null,
   "metadata": {},
   "outputs": [],
   "source": [
    "List<String> items = List.of(\"apple\", \"apple\", \"banana\",\n",
    "        \"apple\", \"orange\", \"banana\", \"papaya\"\n",
    ");\n",
    "Map<String, Long> map0 = items.stream()\n",
    "        .collect(\n",
    "                Collectors.groupingBy(\n",
    "                        Function.identity(), Collectors.counting()\n",
    "                )\n",
    "        );\n",
    "System.out.println(map0);\n",
    "\n",
    "Map<String, List<Integer>> map1 = IntStream.range(0, arr.length)\n",
    "        .boxed()\n",
    "        .collect(Collectors.groupingBy(x -> items.get(x), Collectors.toList()));\n",
    "\n",
    "// 数字出现的下标: {2=[5], 3=[0, 4, 6], 4=[1], 5=[2], 6=[3]}\n",
    "System.out.println(map1);"
   ]
  },
  {
   "cell_type": "code",
   "execution_count": null,
   "metadata": {},
   "outputs": [],
   "source": [
    "// limit\n",
    "// skip\n",
    "// count"
   ]
  },
  {
   "cell_type": "markdown",
   "metadata": {},
   "source": [
    "https://cloud.tencent.com/developer/ask/37501\n",
    "https://www.jianshu.com/p/7fbd347eb107"
   ]
  }
 ],
 "metadata": {
  "kernelspec": {
   "display_name": "Java",
   "language": "java",
   "name": "java"
  },
  "language_info": {
   "codemirror_mode": "java",
   "file_extension": ".jshell",
   "mimetype": "text/x-java-source",
   "name": "Java",
   "pygments_lexer": "java",
   "version": "15.0.1+9"
  },
  "toc": {
   "base_numbering": 1,
   "nav_menu": {},
   "number_sections": true,
   "sideBar": true,
   "skip_h1_title": false,
   "title_cell": "Table of Contents",
   "title_sidebar": "Contents",
   "toc_cell": false,
   "toc_position": {},
   "toc_section_display": true,
   "toc_window_display": false
  }
 },
 "nbformat": 4,
 "nbformat_minor": 4
}
