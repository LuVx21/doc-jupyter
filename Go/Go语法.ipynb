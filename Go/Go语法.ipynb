{
 "cells": [
  {
   "cell_type": "code",
   "execution_count": null,
   "id": "interstate-rates",
   "metadata": {},
   "outputs": [],
   "source": [
    "import \"fmt\""
   ]
  },
  {
   "cell_type": "markdown",
   "id": "62faadb6-9b33-4c2b-b622-701a8957fcd5",
   "metadata": {},
   "source": [
    "## 基础语法"
   ]
  },
  {
   "cell_type": "markdown",
   "id": "0d821f2f-c545-4d91-8689-e45e9c35d942",
   "metadata": {},
   "source": [
    "### 变量/类型"
   ]
  },
  {
   "cell_type": "markdown",
   "id": "839e9b97-297f-4dc3-98f9-4b8ee1807acb",
   "metadata": {},
   "source": [
    "空值: nil\n",
    "\n",
    "整型类型: int(取决于操作系统), int8, int16, int32, int64, uint8, uint16, uint32, uint64\n",
    "\n",
    "浮点数类型: float32, float64\n",
    "\n",
    "字节类型: byte (等价于uint8)\n",
    "\n",
    "字符串类型: string\n",
    "\n",
    "布尔值类型: boolean(true/false)"
   ]
  },
  {
   "cell_type": "code",
   "execution_count": null,
   "id": "0c542628-d4f4-45a6-b802-059e5bd33ba8",
   "metadata": {},
   "outputs": [],
   "source": [
    "var a int\n",
    "var a int = 1\n",
    "var a = 1\n",
    "a := 1"
   ]
  },
  {
   "cell_type": "code",
   "execution_count": null,
   "id": "c9cd2614-8193-40ad-97a7-506d128f82bd",
   "metadata": {},
   "outputs": [],
   "source": [
    "import \"reflect\"\n",
    "\n",
    "str1 := \"Golang\"\n",
    "str2 := \"Go语言\"\n",
    "fmt.Println(reflect.TypeOf(str1).Kind())\n",
    "\n",
    "fmt.Printf(\"%d %c\\n\", str1[2], str1[2])     // 108 l\n",
    "fmt.Println(str1[2], string(str1[2]))       // 108 l\n",
    "\n",
    "fmt.Printf(\"%d %c\\n\", str2[2], str2[2])     // 232 è\n",
    "\n",
    "// 底层是byte数组, 英文字母1字节, 中文3字节\n",
    "fmt.Printf(\"str1: %d str2: %d\\n\", len(str1), len(str2))\n",
    "// uint8\n",
    "fmt.Println(reflect.TypeOf(str2[2]).Kind())"
   ]
  },
  {
   "cell_type": "code",
   "execution_count": null,
   "id": "ddacf128-11c4-4ecd-8cdf-04b3469266b9",
   "metadata": {},
   "outputs": [],
   "source": [
    "str2 := \"Go语言\"\n",
    "// 完整存储字符的数组\n",
    "runeArr := []rune(str2)\n",
    "fmt.Println(\"长度:\", len(runeArr))\n",
    "\n",
    "fmt.Println(reflect.TypeOf(runeArr[2]).Kind()) // int32\n",
    "fmt.Println(runeArr[2], string(runeArr[2]))    // 35821 语"
   ]
  },
  {
   "cell_type": "markdown",
   "id": "c1b14849-c764-4a59-b4d1-af099e8b93cb",
   "metadata": {},
   "source": [
    "### 数组"
   ]
  },
  {
   "cell_type": "code",
   "execution_count": null,
   "id": "e1a4696a-ecb8-46b2-b27e-e28e5ab9f761",
   "metadata": {},
   "outputs": [],
   "source": [
    "arr := [5]int{1, 2, 3, 4, 5}\n",
    "// for i := 0; i < len(arr); i++ {\n",
    "for i := range arr {\n",
    "    arr[i] += 100\n",
    "}\n",
    "for i, v := range arr {\n",
    "    fmt.Println(i, v)\n",
    "}\n",
    "for _, v := range arr {\n",
    "    fmt.Println(v)\n",
    "}\n",
    "\n",
    "slice := arr[0:2]\n",
    "fmt.Println(slice)\n",
    "// 切片修改会影响原数组\n",
    "slice[0] = -1\n",
    "fmt.Println(slice, arr)"
   ]
  },
  {
   "cell_type": "markdown",
   "id": "e79a44bf-9dda-4be9-9e4c-7babf045041f",
   "metadata": {},
   "source": [
    "### 切片"
   ]
  },
  {
   "cell_type": "code",
   "execution_count": null,
   "id": "dfa9f567-6789-417d-a52a-d51ec9483791",
   "metadata": {},
   "outputs": [],
   "source": [
    "slice1 := make([]int32, 0) // 长度为0的切片\n",
    "\n",
    "slice2 := make([]int32, 3, 5) //长度为3容量为5的切片\n",
    "fmt.Println(len(slice2), cap(slice2)) // 3 5\n",
    "// 添加元素，切片容量可以根据需要自动扩展\n",
    "slice2 = append(slice2, 1, 2, 3, 4)\n",
    "fmt.Println(slice2, len(slice2), cap(slice2)) // 7 10\n",
    "\n",
    "// 子切片 [start, end)\n",
    "sub1 := slice2[3:] // [1 2 3 4]\n",
    "sub2 := slice2[:3] // [0 0 0]\n",
    "sub3 := slice2[1:4] // [0 0 1]\n",
    "// 切片的修改会影响原切片\n",
    "sub1[0] = -1\n",
    "// 合并切片\n",
    "combined := append(sub1, sub3...) // [1, 2, 3, 4, 0, 0, 0]\n",
    "\n",
    "fmt.Println(combined)"
   ]
  },
  {
   "cell_type": "markdown",
   "id": "d7ec7a16-1d80-4b3d-bd89-767e172e1ae9",
   "metadata": {},
   "source": [
    "### map"
   ]
  },
  {
   "cell_type": "code",
   "execution_count": null,
   "id": "b3ac48c4-c856-4775-9c07-b4d6461c3e4d",
   "metadata": {},
   "outputs": [],
   "source": [
    "m1 := make(map[string]int)\n",
    "m2 := map[string]string{\n",
    "    \"foo\": \"bar\",\n",
    "    \"bar\": \"foo\",\n",
    "}\n",
    "\n",
    "m1[\"Tom\"] = 18\n",
    "fmt.Println(m1, m2)"
   ]
  },
  {
   "cell_type": "markdown",
   "id": "c95d79be-a488-414c-8638-3535d82849d6",
   "metadata": {},
   "source": [
    "### 指针"
   ]
  },
  {
   "cell_type": "code",
   "execution_count": null,
   "id": "40f021fd-911e-4043-90bc-6b640ea2ca1b",
   "metadata": {},
   "outputs": [],
   "source": [
    "str := \"Golang\"\n",
    "// var p *string = &str\n",
    "p := &str\n",
    "fmt.Println(*p)\n",
    "\n",
    "str = \"Golang1\"\n",
    "fmt.Println(*p, str)\n",
    "\n",
    "*p = \"Golang2\"\n",
    "fmt.Println(*p, str)"
   ]
  }
 ],
 "metadata": {
  "kernelspec": {
   "display_name": "Go",
   "language": "go",
   "name": "gophernotes"
  },
  "language_info": {
   "codemirror_mode": "",
   "file_extension": ".go",
   "mimetype": "",
   "name": "go",
   "nbconvert_exporter": "",
   "pygments_lexer": "",
   "version": "go1.15.5"
  },
  "toc": {
   "base_numbering": 1,
   "nav_menu": {},
   "number_sections": false,
   "sideBar": true,
   "skip_h1_title": false,
   "title_cell": "Table of Contents",
   "title_sidebar": "Contents",
   "toc_cell": true,
   "toc_position": {},
   "toc_section_display": true,
   "toc_window_display": true
  }
 },
 "nbformat": 4,
 "nbformat_minor": 5
}
